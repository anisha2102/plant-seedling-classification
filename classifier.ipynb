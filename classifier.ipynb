{
 "cells": [
  {
   "cell_type": "code",
   "execution_count": null,
   "metadata": {
    "scrolled": false
   },
   "outputs": [],
   "source": [
    "!pip install -U kaggle-cli\n",
    "\n",
    "!kg download -u <username> -p <password> -c 'plant-seedlings-classification' -f 'test.zip'\n",
    "!kg download -u <username> -p <password> -c 'plant-seedlings-classification' -f 'train.zip\n",
    "!unzip test.zip -d data\n",
    "!unzip train.zip -d data"
   ]
  },
  {
   "cell_type": "code",
   "execution_count": 5,
   "metadata": {},
   "outputs": [
    {
     "name": "stdout",
     "output_type": "stream",
     "text": [
      "['Cleavers', 'Black-grass', 'Charlock', 'Fat Hen', 'Common Chickweed', 'Small-flowered Cranesbill', 'Loose Silky-bent', 'Shepherds Purse', 'Scentless Mayweed', 'Maize', 'Common wheat', 'Sugar beet']\n"
     ]
    }
   ],
   "source": [
    "import os\n",
    "print(os.listdir('data/train/'))"
   ]
  },
  {
   "cell_type": "code",
   "execution_count": 6,
   "metadata": {},
   "outputs": [
    {
     "name": "stderr",
     "output_type": "stream",
     "text": [
      "Using TensorFlow backend.\n"
     ]
    },
    {
     "name": "stdout",
     "output_type": "stream",
     "text": [
      "Training data shape:  (4750, 128, 128, 3)\n",
      "Training labels shape:  (4750, 12)\n"
     ]
    }
   ],
   "source": [
    "import fnmatch\n",
    "import os\n",
    "import numpy as np\n",
    "import pandas as pd\n",
    "from keras.applications.vgg16 import preprocess_input\n",
    "from keras.preprocessing import image\n",
    "np.random.seed(21)\n",
    "\n",
    "path = 'data/train/'\n",
    "train_label = []\n",
    "train_img = []\n",
    "label2num = {'Loose Silky-bent':0, 'Charlock':1, 'Sugar beet':2, 'Small-flowered Cranesbill':3,\n",
    "             'Common Chickweed':4, 'Common wheat':5, 'Maize':6, 'Cleavers':7, 'Scentless Mayweed':8,\n",
    "             'Fat Hen':9, 'Black-grass':10, 'Shepherds Purse':11}\n",
    "for i in os.listdir(path):\n",
    "    label_number = label2num[i]\n",
    "    new_path = path+i+'/'\n",
    "    for j in fnmatch.filter(os.listdir(new_path), '*.png'):\n",
    "        temp_img = image.load_img(new_path+j, target_size=(128,128))\n",
    "        train_label.append(label_number)\n",
    "        temp_img = image.img_to_array(temp_img)\n",
    "        train_img.append(temp_img)\n",
    "\n",
    "train_img = np.array(train_img)\n",
    "\n",
    "train_y=pd.get_dummies(train_label)\n",
    "train_y = np.array(train_y)\n",
    "train_img=preprocess_input(train_img)\n",
    "\n",
    "print('Training data shape: ', train_img.shape)\n",
    "print('Training labels shape: ', train_y.shape)"
   ]
  },
  {
   "cell_type": "code",
   "execution_count": 13,
   "metadata": {
    "collapsed": true
   },
   "outputs": [],
   "source": [
    "import keras\n",
    "from keras.models import Sequential,Model\n",
    "from keras.layers import Dense, Dropout, Flatten, Activation\n",
    "from keras.layers import Conv2D, MaxPooling2D\n",
    "from keras.layers.normalization import BatchNormalization\n",
    "from keras.applications.vgg16 import VGG16\n",
    "\n",
    "def vgg16_model(num_classes=None):\n",
    "\n",
    "    model = VGG16(weights='imagenet', include_top=False,input_shape=(128,128,3))\n",
    "    model.layers.pop()\n",
    "    model.layers.pop()\n",
    "    model.layers.pop()\n",
    "\n",
    "    model.outputs = [model.layers[-1].output]\n",
    "\n",
    "    model.layers[-2].outbound_nodes= []\n",
    "    x=Conv2D(256, kernel_size=(2,2),strides=2)(model.output)\n",
    "    x = BatchNormalization()(x)\n",
    "    x = Activation('relu')(x)    \n",
    "    x=Conv2D(128, kernel_size=(2,2),strides=1)(x)\n",
    "    x = BatchNormalization()(x)\n",
    "    x = Activation('relu')(x)\n",
    "    x=Flatten()(x)\n",
    "    x=Dense(num_classes, activation='softmax')(x)\n",
    "\n",
    "    model=Model(model.input,x)\n",
    "\n",
    "    for layer in model.layers[:15]:\n",
    "\n",
    "        layer.trainable = False\n",
    "\n",
    "\n",
    "    return model\n",
    "\n"
   ]
  },
  {
   "cell_type": "code",
   "execution_count": 14,
   "metadata": {
    "collapsed": true
   },
   "outputs": [],
   "source": [
    "\n",
    "def precision(y_true, y_pred):\n",
    "    true_positives = K.sum(K.round(K.clip(y_true * y_pred, 0, 1)))\n",
    "    predicted_positives = K.sum(K.round(K.clip(y_pred, 0, 1)))\n",
    "    precision = true_positives / (predicted_positives + K.epsilon())\n",
    "    return precision\n",
    "\n",
    "\n",
    "def recall(y_true, y_pred):\n",
    "    true_positives = K.sum(K.round(K.clip(y_true * y_pred, 0, 1)))\n",
    "    possible_positives = K.sum(K.round(K.clip(y_true, 0, 1)))\n",
    "    recall = true_positives / (possible_positives + K.epsilon())\n",
    "    return recall\n",
    "\n",
    "\n",
    "def fscore(y_true, y_pred):\n",
    "    if K.sum(K.round(K.clip(y_true, 0, 1))) == 0:\n",
    "        return 0\n",
    "\n",
    "    p = precision(y_true, y_pred)\n",
    "    r = recall(y_true, y_pred)\n",
    "    f_score = 2 * (p * r) / (p + r + K.epsilon())\n",
    "    return f_score\n"
   ]
  },
  {
   "cell_type": "code",
   "execution_count": 15,
   "metadata": {},
   "outputs": [
    {
     "name": "stdout",
     "output_type": "stream",
     "text": [
      "_________________________________________________________________\n",
      "Layer (type)                 Output Shape              Param #   \n",
      "=================================================================\n",
      "input_4 (InputLayer)         (None, 128, 128, 3)       0         \n",
      "_________________________________________________________________\n",
      "block1_conv1 (Conv2D)        (None, 128, 128, 64)      1792      \n",
      "_________________________________________________________________\n",
      "block1_conv2 (Conv2D)        (None, 128, 128, 64)      36928     \n",
      "_________________________________________________________________\n",
      "block1_pool (MaxPooling2D)   (None, 64, 64, 64)        0         \n",
      "_________________________________________________________________\n",
      "block2_conv1 (Conv2D)        (None, 64, 64, 128)       73856     \n",
      "_________________________________________________________________\n",
      "block2_conv2 (Conv2D)        (None, 64, 64, 128)       147584    \n",
      "_________________________________________________________________\n",
      "block2_pool (MaxPooling2D)   (None, 32, 32, 128)       0         \n",
      "_________________________________________________________________\n",
      "block3_conv1 (Conv2D)        (None, 32, 32, 256)       295168    \n",
      "_________________________________________________________________\n",
      "block3_conv2 (Conv2D)        (None, 32, 32, 256)       590080    \n",
      "_________________________________________________________________\n",
      "block3_conv3 (Conv2D)        (None, 32, 32, 256)       590080    \n",
      "_________________________________________________________________\n",
      "block3_pool (MaxPooling2D)   (None, 16, 16, 256)       0         \n",
      "_________________________________________________________________\n",
      "block4_conv1 (Conv2D)        (None, 16, 16, 512)       1180160   \n",
      "_________________________________________________________________\n",
      "block4_conv2 (Conv2D)        (None, 16, 16, 512)       2359808   \n",
      "_________________________________________________________________\n",
      "block4_conv3 (Conv2D)        (None, 16, 16, 512)       2359808   \n",
      "_________________________________________________________________\n",
      "block4_pool (MaxPooling2D)   (None, 8, 8, 512)         0         \n",
      "_________________________________________________________________\n",
      "block5_conv1 (Conv2D)        (None, 8, 8, 512)         2359808   \n",
      "_________________________________________________________________\n",
      "block5_conv2 (Conv2D)        (None, 8, 8, 512)         2359808   \n",
      "_________________________________________________________________\n",
      "block5_conv3 (Conv2D)        (None, 8, 8, 512)         2359808   \n",
      "_________________________________________________________________\n",
      "block5_pool (MaxPooling2D)   (None, 4, 4, 512)         0         \n",
      "_________________________________________________________________\n",
      "conv2d_7 (Conv2D)            (None, 2, 2, 256)         524544    \n",
      "_________________________________________________________________\n",
      "batch_normalization_7 (Batch (None, 2, 2, 256)         1024      \n",
      "_________________________________________________________________\n",
      "activation_7 (Activation)    (None, 2, 2, 256)         0         \n",
      "_________________________________________________________________\n",
      "conv2d_8 (Conv2D)            (None, 1, 1, 128)         131200    \n",
      "_________________________________________________________________\n",
      "batch_normalization_8 (Batch (None, 1, 1, 128)         512       \n",
      "_________________________________________________________________\n",
      "activation_8 (Activation)    (None, 1, 1, 128)         0         \n",
      "_________________________________________________________________\n",
      "flatten_4 (Flatten)          (None, 128)               0         \n",
      "_________________________________________________________________\n",
      "dense_4 (Dense)              (None, 12)                1548      \n",
      "=================================================================\n",
      "Total params: 15,373,516\n",
      "Trainable params: 7,737,484\n",
      "Non-trainable params: 7,636,032\n",
      "_________________________________________________________________\n"
     ]
    }
   ],
   "source": [
    "from keras import backend as K\n",
    "num_classes=12\n",
    "model = vgg16_model(num_classes)\n",
    "model.compile(optimizer=\"adam\", loss='categorical_crossentropy', metrics=['accuracy',fscore])\n",
    "model.summary()"
   ]
  },
  {
   "cell_type": "code",
   "execution_count": 16,
   "metadata": {},
   "outputs": [
    {
     "name": "stdout",
     "output_type": "stream",
     "text": [
      "Train on 4275 samples, validate on 475 samples\n",
      "Epoch 1/20\n",
      "4275/4275 [==============================] - 39s - loss: 1.2596 - acc: 0.6007 - fscore: 0.4964 - val_loss: 9.8949 - val_acc: 0.2253 - val_fscore: 0.2264\n",
      "Epoch 2/20\n",
      "4275/4275 [==============================] - 39s - loss: 0.4371 - acc: 0.8683 - fscore: 0.8603 - val_loss: 3.7345 - val_acc: 0.3263 - val_fscore: 0.2963\n",
      "Epoch 3/20\n",
      "4275/4275 [==============================] - 39s - loss: 0.2627 - acc: 0.9235 - fscore: 0.9189 - val_loss: 1.1217 - val_acc: 0.6316 - val_fscore: 0.6217\n",
      "Epoch 4/20\n",
      "4275/4275 [==============================] - 39s - loss: 0.1901 - acc: 0.9460 - fscore: 0.9449 - val_loss: 0.5118 - val_acc: 0.8126 - val_fscore: 0.8287\n",
      "Epoch 5/20\n",
      "4275/4275 [==============================] - 38s - loss: 0.1436 - acc: 0.9577 - fscore: 0.9563 - val_loss: 0.5489 - val_acc: 0.8189 - val_fscore: 0.8098\n",
      "Epoch 6/20\n",
      "4275/4275 [==============================] - 39s - loss: 0.0924 - acc: 0.9726 - fscore: 0.9725 - val_loss: 0.5116 - val_acc: 0.8274 - val_fscore: 0.8170\n",
      "Epoch 7/20\n",
      "4275/4275 [==============================] - 38s - loss: 0.0618 - acc: 0.9843 - fscore: 0.9843 - val_loss: 0.5879 - val_acc: 0.7916 - val_fscore: 0.7993\n",
      "Epoch 8/20\n",
      "4275/4275 [==============================] - 39s - loss: 0.0389 - acc: 0.9925 - fscore: 0.9924 - val_loss: 0.4808 - val_acc: 0.8358 - val_fscore: 0.8397\n",
      "Epoch 9/20\n",
      "4275/4275 [==============================] - 38s - loss: 0.0372 - acc: 0.9906 - fscore: 0.9909 - val_loss: 0.6662 - val_acc: 0.8105 - val_fscore: 0.8134\n",
      "Epoch 10/20\n",
      "4275/4275 [==============================] - 39s - loss: 0.0548 - acc: 0.9836 - fscore: 0.9837 - val_loss: 0.4570 - val_acc: 0.8589 - val_fscore: 0.8618\n",
      "Epoch 11/20\n",
      "4275/4275 [==============================] - 38s - loss: 0.0312 - acc: 0.9916 - fscore: 0.9909 - val_loss: 0.6492 - val_acc: 0.7958 - val_fscore: 0.7980\n",
      "Epoch 12/20\n",
      "4275/4275 [==============================] - 39s - loss: 0.0199 - acc: 0.9949 - fscore: 0.9951 - val_loss: 0.3948 - val_acc: 0.8947 - val_fscore: 0.9009\n",
      "Epoch 13/20\n",
      "4275/4275 [==============================] - 38s - loss: 0.0108 - acc: 0.9974 - fscore: 0.9975 - val_loss: 0.4877 - val_acc: 0.8632 - val_fscore: 0.8593\n",
      "Epoch 14/20\n",
      "4275/4275 [==============================] - 39s - loss: 0.0086 - acc: 0.9986 - fscore: 0.9987 - val_loss: 0.3877 - val_acc: 0.8779 - val_fscore: 0.8782\n",
      "Epoch 15/20\n",
      "4275/4275 [==============================] - 38s - loss: 0.0094 - acc: 0.9991 - fscore: 0.9991 - val_loss: 0.4606 - val_acc: 0.8695 - val_fscore: 0.8747\n",
      "Epoch 16/20\n",
      "4275/4275 [==============================] - 39s - loss: 0.0034 - acc: 1.0000 - fscore: 1.0000 - val_loss: 0.3558 - val_acc: 0.8968 - val_fscore: 0.8980\n",
      "Epoch 17/20\n",
      "4275/4275 [==============================] - 39s - loss: 0.0015 - acc: 1.0000 - fscore: 1.0000 - val_loss: 0.3437 - val_acc: 0.8968 - val_fscore: 0.8962\n",
      "Epoch 18/20\n",
      "4275/4275 [==============================] - 39s - loss: 0.0011 - acc: 1.0000 - fscore: 1.0000 - val_loss: 0.3286 - val_acc: 0.9032 - val_fscore: 0.9062\n",
      "Epoch 19/20\n",
      "4275/4275 [==============================] - 39s - loss: 8.6010e-04 - acc: 1.0000 - fscore: 1.0000 - val_loss: 0.3226 - val_acc: 0.8989 - val_fscore: 0.9063\n",
      "Epoch 20/20\n",
      "4275/4275 [==============================] - 38s - loss: 8.6829e-04 - acc: 1.0000 - fscore: 1.0000 - val_loss: 0.3306 - val_acc: 0.9032 - val_fscore: 0.9074\n"
     ]
    },
    {
     "data": {
      "text/plain": [
       "<keras.callbacks.History at 0x7f42d7b73f28>"
      ]
     },
     "execution_count": 16,
     "metadata": {},
     "output_type": "execute_result"
    }
   ],
   "source": [
    "#Split training data into rain set and validation set\n",
    "from sklearn.model_selection import train_test_split\n",
    "X_train, X_valid, Y_train, Y_valid=train_test_split(train_img,train_y,test_size=0.1, random_state=42)\n",
    "\n",
    "#Data augmentation\n",
    "'''from keras.preprocessing.image import ImageDataGenerator\n",
    "gen_train = ImageDataGenerator( \n",
    "    rotation_range=30,\n",
    "    width_shift_range=0.2,\n",
    "   height_shift_range=0.2,\n",
    "    horizontal_flip=True,\n",
    "    vertical_flip=True\n",
    "\n",
    ")\n",
    "gen_train.fit(X_train)\n",
    "\n",
    "#Train model\n",
    "from keras.callbacks import ModelCheckpoint\n",
    "epochs = 10\n",
    "batch_size = 32\n",
    "model_checkpoint = ModelCheckpoint('weights.h5', monitor='val_loss', save_best_only=True)\n",
    "\n",
    "model.fit_generator(gen_train.flow(X_train, Y_train, batch_size=batch_size, shuffle=True), \n",
    "                    steps_per_epoch=(X_train.shape[0]//(4*batch_size)), \n",
    "                    epochs=epochs, \n",
    "                    validation_data=(X_valid,Y_valid),\n",
    "                    callbacks=[model_checkpoint],verbose=1)\n",
    "'''\n",
    "from keras.callbacks import ModelCheckpoint\n",
    "epochs = 10\n",
    "batch_size = 32\n",
    "model_checkpoint = ModelCheckpoint('weights.h5', monitor='val_loss', save_best_only=True)\n",
    "\n",
    "model.fit(X_train,Y_train,\n",
    "          batch_size=128,\n",
    "          epochs=20,\n",
    "          verbose=1, shuffle=True, validation_data=(X_valid,Y_valid), callbacks=[model_checkpoint])"
   ]
  },
  {
   "cell_type": "code",
   "execution_count": 22,
   "metadata": {},
   "outputs": [
    {
     "data": {
      "image/png": "[encoded data removed]",
      "text/plain": [
       "<matplotlib.figure.Figure at 0x7f42d541a080>"
      ]
     },
     "metadata": {},
     "output_type": "display_data"
    }
   ],
   "source": [
    "import matplotlib.pyplot as plt\n",
    "def plot_model(model):\n",
    "    plots = [i for i in model.history.history.keys() if i.find('val_') == -1]\n",
    "    plt.figure(figsize=(10,10))\n",
    "\n",
    "    for i, p in enumerate(plots):\n",
    "        plt.subplot(len(plots), 2, i + 1)\n",
    "        plt.title(p)\n",
    "        plt.plot(model.history.history[p], label=p)\n",
    "        plt.plot(model.history.history['val_'+p], label='val_'+p)\n",
    "        plt.legend()\n",
    "\n",
    "    plt.show()\n",
    "    \n",
    "plot_model(model)"
   ]
  },
  {
   "cell_type": "code",
   "execution_count": 23,
   "metadata": {
    "collapsed": true
   },
   "outputs": [],
   "source": [
    "model.load_weights('weights.h5')"
   ]
  },
  {
   "cell_type": "code",
   "execution_count": 24,
   "metadata": {},
   "outputs": [
    {
     "name": "stdout",
     "output_type": "stream",
     "text": [
      "            file            species\n",
      "0  bf66b9cd2.png              Maize\n",
      "1  a93f940d6.png  Scentless Mayweed\n",
      "2  60ee66ddd.png           Cleavers\n",
      "3  63c07d340.png         Sugar beet\n",
      "4  03ef36742.png  Scentless Mayweed\n"
     ]
    }
   ],
   "source": [
    "prob=[]\n",
    "num=[]\n",
    "test_img=[]\n",
    "test_path = 'data/test/'\n",
    "test_all = fnmatch.filter(os.listdir(test_path), '*.png')\n",
    "\n",
    "test_img=[]\n",
    "for i in range(len(test_all)):\n",
    "    path=test_path+'/'+test_all[i]\n",
    "    temp_img=image.load_img(path,target_size=(128,128))\n",
    "    temp_img=image.img_to_array(temp_img)\n",
    "    test_img.append(temp_img) \n",
    "test_img=np.array(test_img)    \n",
    "test_img=preprocess_input(test_img)\n",
    "\n",
    "\n",
    "test_labels=[]\n",
    "pred=model.predict(test_img)\n",
    "num2label =  {0:'Loose Silky-bent', 1:'Charlock',2: 'Sugar beet',3: 'Small-flowered Cranesbill',\n",
    "              4:'Common Chickweed',5: 'Common wheat',6: 'Maize', 7:'Cleavers', 8:'Scentless Mayweed',\n",
    "             9: 'Fat Hen', 10:'Black-grass', 11:'Shepherds Purse'}\n",
    "for i in range(len(test_all)):\n",
    "    max_score =0\n",
    "    lab=-1\n",
    "    for j in range(12):\n",
    "        if pred[i][j]>max_score:\n",
    "            max_score=pred[i][j]\n",
    "            lab=j\n",
    "    test_labels.append(num2label[lab])\n",
    "\n",
    "\n",
    "d = {'file': test_all, 'species': test_labels}\n",
    "df = pd.DataFrame(data=d)\n",
    "print(df.head(5))"
   ]
  },
  {
   "cell_type": "code",
   "execution_count": 26,
   "metadata": {},
   "outputs": [
    {
     "name": "stdout",
     "output_type": "stream",
     "text": [
      "Submitting csv\n",
      "0.92191\n"
     ]
    }
   ],
   "source": [
    "#Convert dataframe to csv\n",
    "df.to_csv(\"/output/submit.csv\",index=False) \n",
    "\n",
    "#Submit the csv\n",
    "print('Submitting csv')\n",
    "!kg submit submit.csv -u <username> -p <password> -c plant-seedlings-classification"
   ]
  },
  {
   "cell_type": "code",
   "execution_count": null,
   "metadata": {
    "collapsed": true
   },
   "outputs": [],
   "source": []
  }
 ],
 "metadata": {
  "kernelspec": {
   "display_name": "Python 2",
   "language": "python",
   "name": "python2"
  },
  "language_info": {
   "codemirror_mode": {
    "name": "ipython",
    "version": 2
   },
   "file_extension": ".py",
   "mimetype": "text/x-python",
   "name": "python",
   "nbconvert_exporter": "python",
   "pygments_lexer": "ipython2",
   "version": "2.7.13"
  }
 },
 "nbformat": 4,
 "nbformat_minor": 2
}
